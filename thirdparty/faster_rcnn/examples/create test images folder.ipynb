{
 "cells": [
  {
   "cell_type": "code",
   "execution_count": 9,
   "metadata": {},
   "outputs": [],
   "source": [
    "from xml.dom import minidom\n",
    "import os\n",
    "import csv\n",
    "import cv2\n",
    "import random\n",
    "from shutil import copyfile\n"
   ]
  },
  {
   "cell_type": "code",
   "execution_count": 6,
   "metadata": {},
   "outputs": [],
   "source": [
    "sample = None\n",
    "all_data = list()\n",
    "with open('test_labels.txt', newline='') as csvfile:\n",
    "    sample = csv.reader(csvfile, delimiter=',')\n",
    "    for row in sample:\n",
    "        all_data.append(row[0])\n",
    "all_data = list(set(all_data))"
   ]
  },
  {
   "cell_type": "code",
   "execution_count": 12,
   "metadata": {},
   "outputs": [
    {
     "name": "stdout",
     "output_type": "stream",
     "text": [
      "Images/frame769.jpg\n",
      "Images/frame1309.jpg\n",
      "Images/frame3907.jpg\n",
      "Images/frame304.jpg\n",
      "Images/frame229.jpg\n",
      "Images/frame1319.jpg\n",
      "Images/frame1024.jpg\n",
      "Images/frame719.jpg\n",
      "Images/frame874.jpg\n",
      "Images/frame624.jpg\n",
      "Images/frame1759.jpg\n",
      "Images/frame1789.jpg\n",
      "Images/frame2207.jpg\n",
      "Images/frame1839.jpg\n",
      "Images/frame3717.jpg\n",
      "Images/frame3767.jpg\n",
      "Images/frame1344.jpg\n",
      "Images/frame2466.jpg\n",
      "Images/frame2486.jpg\n",
      "Images/frame729.jpg\n",
      "Images/frame244.jpg\n",
      "Images/frame2441.jpg\n",
      "Images/frame124.jpg\n",
      "Images/frame859.jpg\n",
      "Images/frame1764.jpg\n",
      "Images/frame209.jpg\n",
      "Images/frame889.jpg\n",
      "Images/frame1784.jpg\n",
      "Images/frame599.jpg\n",
      "Images/frame1804.jpg\n",
      "Images/frame3687.jpg\n",
      "Images/frame1194.jpg\n",
      "Images/frame1554.jpg\n",
      "Images/frame3832.jpg\n",
      "Images/frame259.jpg\n",
      "Images/frame2361.jpg\n",
      "Images/frame2531.jpg\n",
      "Images/frame64.jpg\n",
      "Images/frame3637.jpg\n",
      "Images/frame1234.jpg\n",
      "Images/frame2391.jpg\n",
      "Images/frame74.jpg\n",
      "Images/frame1389.jpg\n",
      "Images/frame1699.jpg\n",
      "Images/frame924.jpg\n",
      "Images/frame2132.jpg\n"
     ]
    }
   ],
   "source": [
    "for i in range(len(all_data)):\n",
    "    print(all_data[i])\n",
    "    name = all_data[i].split('/')[-1]\n",
    "    copyfile(all_data[i], './Images_test/'+name)"
   ]
  },
  {
   "cell_type": "code",
   "execution_count": null,
   "metadata": {},
   "outputs": [],
   "source": []
  }
 ],
 "metadata": {
  "kernelspec": {
   "display_name": "Python 3",
   "language": "python",
   "name": "python3"
  },
  "language_info": {
   "codemirror_mode": {
    "name": "ipython",
    "version": 3
   },
   "file_extension": ".py",
   "mimetype": "text/x-python",
   "name": "python",
   "nbconvert_exporter": "python",
   "pygments_lexer": "ipython3",
   "version": "3.7.9"
  }
 },
 "nbformat": 4,
 "nbformat_minor": 4
}
